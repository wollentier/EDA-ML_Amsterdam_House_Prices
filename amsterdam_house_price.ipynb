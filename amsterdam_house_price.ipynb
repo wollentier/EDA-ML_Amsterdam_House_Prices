{
 "cells": [
  {
   "cell_type": "code",
   "execution_count": 10,
   "metadata": {},
   "outputs": [],
   "source": [
    "import pandas as pd\n",
    "import numpy as np\n",
    "import matplotlib.pyplot as plt\n",
    "import json\n",
    "import plotly.express as px\n",
    "import scipy as spy\n",
    "import seaborn as sns"
   ]
  },
  {
   "cell_type": "markdown",
   "metadata": {},
   "source": [
    "load data"
   ]
  },
  {
   "cell_type": "code",
   "execution_count": 11,
   "metadata": {},
   "outputs": [],
   "source": [
    "data = pd.read_csv(\".\\HousingPrices-Amsterdam-August-2021.csv\")"
   ]
  },
  {
   "cell_type": "markdown",
   "metadata": {},
   "source": [
    "check if Unnamed:0 is index "
   ]
  },
  {
   "cell_type": "code",
   "execution_count": 12,
   "metadata": {},
   "outputs": [
    {
     "name": "stdout",
     "output_type": "stream",
     "text": [
      "924\n",
      "0        1\n",
      "1        2\n",
      "2        3\n",
      "3        4\n",
      "4        5\n",
      "      ... \n",
      "919    920\n",
      "920    921\n",
      "921    922\n",
      "922    923\n",
      "923    924\n",
      "Name: Unnamed: 0, Length: 924, dtype: int64\n"
     ]
    }
   ],
   "source": [
    "print(len(pd.unique(data[\"Unnamed: 0\"])))\n",
    "print(data[\"Unnamed: 0\"])"
   ]
  },
  {
   "cell_type": "markdown",
   "metadata": {},
   "source": [
    "check if unnamed: 0 containes nulls or nans"
   ]
  },
  {
   "cell_type": "code",
   "execution_count": 13,
   "metadata": {},
   "outputs": [
    {
     "name": "stdout",
     "output_type": "stream",
     "text": [
      "no nulls\n",
      "no nan\n",
      "<class 'pandas.core.frame.DataFrame'>\n",
      "RangeIndex: 924 entries, 0 to 923\n",
      "Data columns (total 8 columns):\n",
      " #   Column      Non-Null Count  Dtype  \n",
      "---  ------      --------------  -----  \n",
      " 0   Unnamed: 0  924 non-null    int64  \n",
      " 1   Address     924 non-null    object \n",
      " 2   Zip         924 non-null    object \n",
      " 3   Price       920 non-null    float64\n",
      " 4   Area        924 non-null    int64  \n",
      " 5   Room        924 non-null    int64  \n",
      " 6   Lon         924 non-null    float64\n",
      " 7   Lat         924 non-null    float64\n",
      "dtypes: float64(3), int64(3), object(2)\n",
      "memory usage: 57.9+ KB\n",
      "None\n"
     ]
    }
   ],
   "source": [
    "if len(data[pd.isnull(data[\"Unnamed: 0\"])==True]) == 0:\n",
    "    print(\"no nulls\")\n",
    "else:\n",
    "    print(\"nulls\")\n",
    "\n",
    "if len(data[pd.isna(data[\"Unnamed: 0\"])==True]) == 0:\n",
    "    print(\"no nan\")\n",
    "else:\n",
    "    print(\"nan\")\n",
    "\n",
    "print(data.info())"
   ]
  },
  {
   "cell_type": "markdown",
   "metadata": {},
   "source": [
    "unnamed:0 seems to be index<br>\n",
    "check if unnamed:0 is continues<br>\n",
    "comparing entries with  entry<br>\n",
    "<br>\n",
    "PRICE seems to contrain Null"
   ]
  },
  {
   "cell_type": "code",
   "execution_count": 14,
   "metadata": {},
   "outputs": [
    {
     "name": "stdout",
     "output_type": "stream",
     "text": [
      "continues\n"
     ]
    }
   ],
   "source": [
    "hold = 1\n",
    "for i in data[\"Unnamed: 0\"]:\n",
    "    if i == 1: \n",
    "        continue\n",
    "    if i-1 == hold:\n",
    "        hold += 1\n",
    "if hold == len(data[\"Unnamed: 0\"]):\n",
    "    print(\"continues\")"
   ]
  },
  {
   "cell_type": "markdown",
   "metadata": {},
   "source": [
    "unnamed:0 is contineous and will be renamed"
   ]
  },
  {
   "cell_type": "code",
   "execution_count": 15,
   "metadata": {},
   "outputs": [],
   "source": [
    "data = data.rename(columns={\"Unnamed: 0\":\"index\"})"
   ]
  },
  {
   "cell_type": "markdown",
   "metadata": {},
   "source": [
    "Clean up nans in prices<br>\n",
    "<br>\n",
    "show indecies of rows"
   ]
  },
  {
   "cell_type": "code",
   "execution_count": 16,
   "metadata": {},
   "outputs": [
    {
     "data": {
      "text/plain": [
       "Int64Index([73, 321, 610, 727], dtype='int64')"
      ]
     },
     "execution_count": 16,
     "metadata": {},
     "output_type": "execute_result"
    }
   ],
   "source": [
    "data[\"Price\"][pd.isnull(data[\"Price\"])].index"
   ]
  },
  {
   "cell_type": "markdown",
   "metadata": {},
   "source": [
    "we will clear the 4 entries by deletion<br>\n",
    "later we will approximate the value and prob. include them again"
   ]
  },
  {
   "cell_type": "code",
   "execution_count": 17,
   "metadata": {},
   "outputs": [],
   "source": [
    "data = data.drop(data[\"Price\"][pd.isnull(data[\"Price\"])].index)"
   ]
  },
  {
   "cell_type": "markdown",
   "metadata": {},
   "source": [
    "The first two digits indicate a city and a region, the second two digits and the two letters indicate a range of house numbers, usually on the same street. Consequently, a postal address is uniquely defined by the postal code and the house number. On average, a Dutch postal code comprises eight single addresses. "
   ]
  },
  {
   "cell_type": "markdown",
   "metadata": {},
   "source": [
    "breaking down zip code to \"region\""
   ]
  },
  {
   "cell_type": "code",
   "execution_count": 18,
   "metadata": {},
   "outputs": [],
   "source": [
    "data[\"Region\"] = data[\"Zip\"].str[0:4]"
   ]
  },
  {
   "cell_type": "code",
   "execution_count": 36,
   "metadata": {},
   "outputs": [
    {
     "data": {
      "text/plain": [
       "<AxesSubplot:>"
      ]
     },
     "execution_count": 36,
     "metadata": {},
     "output_type": "execute_result"
    },
    {
     "data": {
      "image/png": "[encoded data removed]",
      "text/plain": [
       "<Figure size 640x480 with 2 Axes>"
      ]
     },
     "metadata": {},
     "output_type": "display_data"
    }
   ],
   "source": [
    "#first look at correlations\n",
    "sns.heatmap(data.corr(method=\"pearson\"))"
   ]
  },
  {
   "cell_type": "code",
   "execution_count": 73,
   "metadata": {},
   "outputs": [
    {
     "ename": "KeyError",
     "evalue": "'Price'",
     "output_type": "error",
     "traceback": [
      "\u001b[1;31m---------------------------------------------------------------------------\u001b[0m",
      "\u001b[1;31mKeyError\u001b[0m                                  Traceback (most recent call last)",
      "\u001b[1;32mc:\\Users\\wolle\\Desktop\\amsterdam_house_price\\envwin\\lib\\site-packages\\pandas\\core\\indexes\\base.py\u001b[0m in \u001b[0;36mget_loc\u001b[1;34m(self, key, method, tolerance)\u001b[0m\n\u001b[0;32m   3628\u001b[0m             \u001b[1;32mtry\u001b[0m\u001b[1;33m:\u001b[0m\u001b[1;33m\u001b[0m\u001b[1;33m\u001b[0m\u001b[0m\n\u001b[1;32m-> 3629\u001b[1;33m                 \u001b[1;32mreturn\u001b[0m \u001b[0mself\u001b[0m\u001b[1;33m.\u001b[0m\u001b[0m_engine\u001b[0m\u001b[1;33m.\u001b[0m\u001b[0mget_loc\u001b[0m\u001b[1;33m(\u001b[0m\u001b[0mcasted_key\u001b[0m\u001b[1;33m)\u001b[0m\u001b[1;33m\u001b[0m\u001b[1;33m\u001b[0m\u001b[0m\n\u001b[0m\u001b[0;32m   3630\u001b[0m             \u001b[1;32mexcept\u001b[0m \u001b[0mKeyError\u001b[0m \u001b[1;32mas\u001b[0m \u001b[0merr\u001b[0m\u001b[1;33m:\u001b[0m\u001b[1;33m\u001b[0m\u001b[1;33m\u001b[0m\u001b[0m\n",
      "\u001b[1;32mc:\\Users\\wolle\\Desktop\\amsterdam_house_price\\envwin\\lib\\site-packages\\pandas\\_libs\\index.pyx\u001b[0m in \u001b[0;36mpandas._libs.index.IndexEngine.get_loc\u001b[1;34m()\u001b[0m\n",
      "\u001b[1;32mc:\\Users\\wolle\\Desktop\\amsterdam_house_price\\envwin\\lib\\site-packages\\pandas\\_libs\\index.pyx\u001b[0m in \u001b[0;36mpandas._libs.index.IndexEngine.get_loc\u001b[1;34m()\u001b[0m\n",
      "\u001b[1;32mpandas\\_libs\\hashtable_class_helper.pxi\u001b[0m in \u001b[0;36mpandas._libs.hashtable.PyObjectHashTable.get_item\u001b[1;34m()\u001b[0m\n",
      "\u001b[1;32mpandas\\_libs\\hashtable_class_helper.pxi\u001b[0m in \u001b[0;36mpandas._libs.hashtable.PyObjectHashTable.get_item\u001b[1;34m()\u001b[0m\n",
      "\u001b[1;31mKeyError\u001b[0m: 'Price'",
      "\nThe above exception was the direct cause of the following exception:\n",
      "\u001b[1;31mKeyError\u001b[0m                                  Traceback (most recent call last)",
      "\u001b[1;32m~\\AppData\\Local\\Temp\\ipykernel_26168\\2638383727.py\u001b[0m in \u001b[0;36m<cell line: 1>\u001b[1;34m()\u001b[0m\n\u001b[1;32m----> 1\u001b[1;33m \u001b[0mmedian_price\u001b[0m\u001b[1;33m=\u001b[0m\u001b[0mdata\u001b[0m\u001b[1;33m.\u001b[0m\u001b[0mgroupby\u001b[0m\u001b[1;33m(\u001b[0m\u001b[1;33m[\u001b[0m\u001b[1;34m\"Region\"\u001b[0m\u001b[1;33m]\u001b[0m\u001b[1;33m)\u001b[0m\u001b[1;33m.\u001b[0m\u001b[0mmedian\u001b[0m\u001b[1;33m(\u001b[0m\u001b[1;33m)\u001b[0m\u001b[1;33m[\u001b[0m\u001b[1;34m\"Price\"\u001b[0m\u001b[1;33m]\u001b[0m\u001b[1;33m.\u001b[0m\u001b[0mreset_index\u001b[0m\u001b[1;33m(\u001b[0m\u001b[1;33m)\u001b[0m\u001b[1;33m.\u001b[0m\u001b[0msort_values\u001b[0m\u001b[1;33m(\u001b[0m\u001b[0mby\u001b[0m\u001b[1;33m=\u001b[0m\u001b[1;34m\"Region\"\u001b[0m\u001b[1;33m)\u001b[0m\u001b[1;33m\u001b[0m\u001b[1;33m\u001b[0m\u001b[0m\n\u001b[0m",
      "\u001b[1;32mc:\\Users\\wolle\\Desktop\\amsterdam_house_price\\envwin\\lib\\site-packages\\pandas\\core\\frame.py\u001b[0m in \u001b[0;36m__getitem__\u001b[1;34m(self, key)\u001b[0m\n\u001b[0;32m   3503\u001b[0m             \u001b[1;32mif\u001b[0m \u001b[0mself\u001b[0m\u001b[1;33m.\u001b[0m\u001b[0mcolumns\u001b[0m\u001b[1;33m.\u001b[0m\u001b[0mnlevels\u001b[0m \u001b[1;33m>\u001b[0m \u001b[1;36m1\u001b[0m\u001b[1;33m:\u001b[0m\u001b[1;33m\u001b[0m\u001b[1;33m\u001b[0m\u001b[0m\n\u001b[0;32m   3504\u001b[0m                 \u001b[1;32mreturn\u001b[0m \u001b[0mself\u001b[0m\u001b[1;33m.\u001b[0m\u001b[0m_getitem_multilevel\u001b[0m\u001b[1;33m(\u001b[0m\u001b[0mkey\u001b[0m\u001b[1;33m)\u001b[0m\u001b[1;33m\u001b[0m\u001b[1;33m\u001b[0m\u001b[0m\n\u001b[1;32m-> 3505\u001b[1;33m             \u001b[0mindexer\u001b[0m \u001b[1;33m=\u001b[0m \u001b[0mself\u001b[0m\u001b[1;33m.\u001b[0m\u001b[0mcolumns\u001b[0m\u001b[1;33m.\u001b[0m\u001b[0mget_loc\u001b[0m\u001b[1;33m(\u001b[0m\u001b[0mkey\u001b[0m\u001b[1;33m)\u001b[0m\u001b[1;33m\u001b[0m\u001b[1;33m\u001b[0m\u001b[0m\n\u001b[0m\u001b[0;32m   3506\u001b[0m             \u001b[1;32mif\u001b[0m \u001b[0mis_integer\u001b[0m\u001b[1;33m(\u001b[0m\u001b[0mindexer\u001b[0m\u001b[1;33m)\u001b[0m\u001b[1;33m:\u001b[0m\u001b[1;33m\u001b[0m\u001b[1;33m\u001b[0m\u001b[0m\n\u001b[0;32m   3507\u001b[0m                 \u001b[0mindexer\u001b[0m \u001b[1;33m=\u001b[0m \u001b[1;33m[\u001b[0m\u001b[0mindexer\u001b[0m\u001b[1;33m]\u001b[0m\u001b[1;33m\u001b[0m\u001b[1;33m\u001b[0m\u001b[0m\n",
      "\u001b[1;32mc:\\Users\\wolle\\Desktop\\amsterdam_house_price\\envwin\\lib\\site-packages\\pandas\\core\\indexes\\base.py\u001b[0m in \u001b[0;36mget_loc\u001b[1;34m(self, key, method, tolerance)\u001b[0m\n\u001b[0;32m   3629\u001b[0m                 \u001b[1;32mreturn\u001b[0m \u001b[0mself\u001b[0m\u001b[1;33m.\u001b[0m\u001b[0m_engine\u001b[0m\u001b[1;33m.\u001b[0m\u001b[0mget_loc\u001b[0m\u001b[1;33m(\u001b[0m\u001b[0mcasted_key\u001b[0m\u001b[1;33m)\u001b[0m\u001b[1;33m\u001b[0m\u001b[1;33m\u001b[0m\u001b[0m\n\u001b[0;32m   3630\u001b[0m             \u001b[1;32mexcept\u001b[0m \u001b[0mKeyError\u001b[0m \u001b[1;32mas\u001b[0m \u001b[0merr\u001b[0m\u001b[1;33m:\u001b[0m\u001b[1;33m\u001b[0m\u001b[1;33m\u001b[0m\u001b[0m\n\u001b[1;32m-> 3631\u001b[1;33m                 \u001b[1;32mraise\u001b[0m \u001b[0mKeyError\u001b[0m\u001b[1;33m(\u001b[0m\u001b[0mkey\u001b[0m\u001b[1;33m)\u001b[0m \u001b[1;32mfrom\u001b[0m \u001b[0merr\u001b[0m\u001b[1;33m\u001b[0m\u001b[1;33m\u001b[0m\u001b[0m\n\u001b[0m\u001b[0;32m   3632\u001b[0m             \u001b[1;32mexcept\u001b[0m \u001b[0mTypeError\u001b[0m\u001b[1;33m:\u001b[0m\u001b[1;33m\u001b[0m\u001b[1;33m\u001b[0m\u001b[0m\n\u001b[0;32m   3633\u001b[0m                 \u001b[1;31m# If we have a listlike key, _check_indexing_error will raise\u001b[0m\u001b[1;33m\u001b[0m\u001b[1;33m\u001b[0m\u001b[0m\n",
      "\u001b[1;31mKeyError\u001b[0m: 'Price'"
     ]
    }
   ],
   "source": [
    "median_price=data.groupby([\"Region\"]).median()[\"Price\"].reset_index().sort_values(by=\"Region\")"
   ]
  },
  {
   "cell_type": "code",
   "execution_count": null,
   "metadata": {},
   "outputs": [],
   "source": [
    "ordered_Regions_for_plot=median_price[[\"Price\",\"Region\"]].sort_values(by=\"Price\")[\"Region\"]\n",
    "\n",
    "fig, ax = plt.subplots(figsize=(20,5))\n",
    "fig1 = sns.barplot(x=median_price[\"Region\"],y=median_price[\"Price\"]/1000000,color=\"lightblue\",order=ordered_Regions_for_plot)\n",
    "fig1.set_xticklabels(labels=median_price[\"Region\"],fontdict={\"fontsize\":\"8\",\"rotation\":\"-45\"})\n",
    "fig1.set_title(\"Median Price of each Region (by Zip)\")\n",
    "fig1.set_ylabel(\"Price (in M)\")\n",
    "fig1.set_xlabel(\"Region (Zip Code)\")\n",
    "plt.show()\n"
   ]
  },
  {
   "cell_type": "code",
   "execution_count": 22,
   "metadata": {},
   "outputs": [],
   "source": [
    "\n",
    "geodata=json.load(open(\"./georef-netherlands-postcode-pc4_simple.geojson\",\"r\"))\n",
    "\n",
    "#plotly needs specificly \"id\" within features so we have to copy them from properties to features\n",
    "for i in geodata[\"features\"]:\n",
    "    i[\"id\"]=i[\"properties\"][\"pc4_code\"]"
   ]
  },
  {
   "cell_type": "markdown",
   "metadata": {},
   "source": [
    "check if all zip codes of data are in geodata"
   ]
  },
  {
   "cell_type": "code",
   "execution_count": 23,
   "metadata": {},
   "outputs": [],
   "source": [
    "#get only zip codes from data\n",
    "zip_list = []\n",
    "for i in geodata[\"features\"]:\n",
    "    zip_list.append(i[\"properties\"][\"pc4_code\"])\n",
    "\n",
    "#check if very zip code is present in geodata\n",
    "for i in data[\"Region\"].unique():\n",
    "    if i not in zip_list:\n",
    "        print(i)"
   ]
  },
  {
   "cell_type": "code",
   "execution_count": 24,
   "metadata": {},
   "outputs": [],
   "source": [
    "avg_data = data.groupby([\"Region\"]).median().reset_index()[[\"Region\",\"Price\"]]"
   ]
  },
  {
   "cell_type": "code",
   "execution_count": null,
   "metadata": {},
   "outputs": [],
   "source": [
    "fig2 = px.choropleth_mapbox(\n",
    "    avg_data,\n",
    "    locations=avg_data[\"Region\"],\n",
    "    geojson=geodata,color=avg_data[\"Price\"],\n",
    "    zoom=9.7, \n",
    "    center = {\"lat\": 52.356157, \"lon\": 4.907736},\n",
    "    color_continuous_scale=\"matter\", \n",
    "    mapbox_style=\"carto-positron\",\n",
    "    hover_data=avg_data,\n",
    "    range_color=[avg_data[\"Price\"].min(),avg_data[\"Price\"].max()],\n",
    "    width=1000,\n",
    "    height=500\n",
    ")\n",
    "\n",
    "fig2.update_layout(                      \n",
    "    margin={\"r\":0,\"t\":0,\"l\":0,\"b\":0}\n",
    ")\n",
    "\n",
    "fig2.show()"
   ]
  },
  {
   "cell_type": "code",
   "execution_count": 26,
   "metadata": {},
   "outputs": [
    {
     "data": {
      "text/html": [
       "<div>\n",
       "<style scoped>\n",
       "    .dataframe tbody tr th:only-of-type {\n",
       "        vertical-align: middle;\n",
       "    }\n",
       "\n",
       "    .dataframe tbody tr th {\n",
       "        vertical-align: top;\n",
       "    }\n",
       "\n",
       "    .dataframe thead tr th {\n",
       "        text-align: left;\n",
       "    }\n",
       "</style>\n",
       "<table border=\"1\" class=\"dataframe\">\n",
       "  <thead>\n",
       "    <tr>\n",
       "      <th></th>\n",
       "      <th colspan=\"8\" halign=\"left\">Price</th>\n",
       "      <th>Region</th>\n",
       "    </tr>\n",
       "    <tr>\n",
       "      <th></th>\n",
       "      <th>count</th>\n",
       "      <th>mean</th>\n",
       "      <th>std</th>\n",
       "      <th>min</th>\n",
       "      <th>25%</th>\n",
       "      <th>50%</th>\n",
       "      <th>75%</th>\n",
       "      <th>max</th>\n",
       "      <th></th>\n",
       "    </tr>\n",
       "  </thead>\n",
       "  <tbody>\n",
       "    <tr>\n",
       "      <th>41</th>\n",
       "      <td>10.0</td>\n",
       "      <td>1256500.0</td>\n",
       "      <td>556077.782329</td>\n",
       "      <td>550000.0</td>\n",
       "      <td>915000.0</td>\n",
       "      <td>1100000.0</td>\n",
       "      <td>1506250.0</td>\n",
       "      <td>2500000.0</td>\n",
       "      <td>1071</td>\n",
       "    </tr>\n",
       "  </tbody>\n",
       "</table>\n",
       "</div>"
      ],
      "text/plain": [
       "   Price                                                                      \\\n",
       "   count       mean            std       min       25%        50%        75%   \n",
       "41  10.0  1256500.0  556077.782329  550000.0  915000.0  1100000.0  1506250.0   \n",
       "\n",
       "              Region  \n",
       "          max         \n",
       "41  2500000.0   1071  "
      ]
     },
     "execution_count": 26,
     "metadata": {},
     "output_type": "execute_result"
    }
   ],
   "source": [
    "\n",
    "data.groupby([\"Region\"]).describe().reset_index()[[\"Price\",\"Region\"]][data.groupby([\"Region\"]).describe().reset_index()[\"Region\"]==\"1071\"]"
   ]
  },
  {
   "cell_type": "code",
   "execution_count": 27,
   "metadata": {},
   "outputs": [],
   "source": [
    "#data[[\"Price\",\"Region\"]].plot.hist(subplots=True,by=\"Region\")"
   ]
  },
  {
   "cell_type": "code",
   "execution_count": 28,
   "metadata": {},
   "outputs": [],
   "source": [
    "#create lists containing all prices for individual regions. This is to conduct norm. dist. test.\n",
    "data_for_norm_test = data\n",
    "data_for_norm_test[\"Price\"] = data_for_norm_test[\"Price\"].astype(\"str\")\n",
    "\n",
    "data_for_norm_test = data_for_norm_test.groupby([\"Region\"])[\"Price\"].agg(\",\".join).reset_index()"
   ]
  },
  {
   "cell_type": "code",
   "execution_count": 29,
   "metadata": {},
   "outputs": [
    {
     "data": {
      "text/html": [
       "<div>\n",
       "<style scoped>\n",
       "    .dataframe tbody tr th:only-of-type {\n",
       "        vertical-align: middle;\n",
       "    }\n",
       "\n",
       "    .dataframe tbody tr th {\n",
       "        vertical-align: top;\n",
       "    }\n",
       "\n",
       "    .dataframe thead th {\n",
       "        text-align: right;\n",
       "    }\n",
       "</style>\n",
       "<table border=\"1\" class=\"dataframe\">\n",
       "  <thead>\n",
       "    <tr style=\"text-align: right;\">\n",
       "      <th></th>\n",
       "      <th>Region</th>\n",
       "      <th>Price</th>\n",
       "    </tr>\n",
       "  </thead>\n",
       "  <tbody>\n",
       "    <tr>\n",
       "      <th>0</th>\n",
       "      <td>1011</td>\n",
       "      <td>1295000.0,439000.0,445000.0,875000.0,635000.0,...</td>\n",
       "    </tr>\n",
       "    <tr>\n",
       "      <th>1</th>\n",
       "      <td>1012</td>\n",
       "      <td>375000.0,340000.0,1450000.0,4495000.0,1450000....</td>\n",
       "    </tr>\n",
       "    <tr>\n",
       "      <th>2</th>\n",
       "      <td>1013</td>\n",
       "      <td>375000.0,1950000.0,450000.0,425000.0,325000.0,...</td>\n",
       "    </tr>\n",
       "    <tr>\n",
       "      <th>3</th>\n",
       "      <td>1014</td>\n",
       "      <td>950000.0,1250000.0,1450000.0,690000.0,475000.0</td>\n",
       "    </tr>\n",
       "    <tr>\n",
       "      <th>4</th>\n",
       "      <td>1015</td>\n",
       "      <td>469000.0,725000.0,915000.0,469000.0,950000.0,1...</td>\n",
       "    </tr>\n",
       "    <tr>\n",
       "      <th>...</th>\n",
       "      <td>...</td>\n",
       "      <td>...</td>\n",
       "    </tr>\n",
       "    <tr>\n",
       "      <th>65</th>\n",
       "      <td>1104</td>\n",
       "      <td>325000.0,285000.0,285000.0,375000.0,525000.0,6...</td>\n",
       "    </tr>\n",
       "    <tr>\n",
       "      <th>66</th>\n",
       "      <td>1106</td>\n",
       "      <td>325000.0,375000.0,320000.0,245000.0,270000.0,3...</td>\n",
       "    </tr>\n",
       "    <tr>\n",
       "      <th>67</th>\n",
       "      <td>1107</td>\n",
       "      <td>245000.0,395000.0,320000.0,250000.0,295000.0,3...</td>\n",
       "    </tr>\n",
       "    <tr>\n",
       "      <th>68</th>\n",
       "      <td>1108</td>\n",
       "      <td>325000.0,300000.0,350000.0</td>\n",
       "    </tr>\n",
       "    <tr>\n",
       "      <th>69</th>\n",
       "      <td>1109</td>\n",
       "      <td>475000.0,549001.0</td>\n",
       "    </tr>\n",
       "  </tbody>\n",
       "</table>\n",
       "<p>70 rows × 2 columns</p>\n",
       "</div>"
      ],
      "text/plain": [
       "   Region                                              Price\n",
       "0    1011  1295000.0,439000.0,445000.0,875000.0,635000.0,...\n",
       "1    1012  375000.0,340000.0,1450000.0,4495000.0,1450000....\n",
       "2    1013  375000.0,1950000.0,450000.0,425000.0,325000.0,...\n",
       "3    1014     950000.0,1250000.0,1450000.0,690000.0,475000.0\n",
       "4    1015  469000.0,725000.0,915000.0,469000.0,950000.0,1...\n",
       "..    ...                                                ...\n",
       "65   1104  325000.0,285000.0,285000.0,375000.0,525000.0,6...\n",
       "66   1106  325000.0,375000.0,320000.0,245000.0,270000.0,3...\n",
       "67   1107  245000.0,395000.0,320000.0,250000.0,295000.0,3...\n",
       "68   1108                         325000.0,300000.0,350000.0\n",
       "69   1109                                  475000.0,549001.0\n",
       "\n",
       "[70 rows x 2 columns]"
      ]
     },
     "execution_count": 29,
     "metadata": {},
     "output_type": "execute_result"
    }
   ],
   "source": [
    "data_for_norm_test"
   ]
  },
  {
   "cell_type": "code",
   "execution_count": 30,
   "metadata": {},
   "outputs": [
    {
     "name": "stderr",
     "output_type": "stream",
     "text": [
      "c:\\Users\\wolle\\Desktop\\amsterdam_house_price\\envwin\\lib\\site-packages\\scipy\\stats\\_stats_py.py:1769: UserWarning:\n",
      "\n",
      "kurtosistest only valid for n>=20 ... continuing anyway, n=15\n",
      "\n",
      "c:\\Users\\wolle\\Desktop\\amsterdam_house_price\\envwin\\lib\\site-packages\\scipy\\stats\\_stats_py.py:1769: UserWarning:\n",
      "\n",
      "kurtosistest only valid for n>=20 ... continuing anyway, n=19\n",
      "\n",
      "c:\\Users\\wolle\\Desktop\\amsterdam_house_price\\envwin\\lib\\site-packages\\scipy\\stats\\_stats_py.py:1769: UserWarning:\n",
      "\n",
      "kurtosistest only valid for n>=20 ... continuing anyway, n=14\n",
      "\n",
      "c:\\Users\\wolle\\Desktop\\amsterdam_house_price\\envwin\\lib\\site-packages\\scipy\\stats\\_stats_py.py:1769: UserWarning:\n",
      "\n",
      "kurtosistest only valid for n>=20 ... continuing anyway, n=12\n",
      "\n",
      "c:\\Users\\wolle\\Desktop\\amsterdam_house_price\\envwin\\lib\\site-packages\\scipy\\stats\\_stats_py.py:1769: UserWarning:\n",
      "\n",
      "kurtosistest only valid for n>=20 ... continuing anyway, n=13\n",
      "\n",
      "c:\\Users\\wolle\\Desktop\\amsterdam_house_price\\envwin\\lib\\site-packages\\scipy\\stats\\_stats_py.py:1769: UserWarning:\n",
      "\n",
      "kurtosistest only valid for n>=20 ... continuing anyway, n=10\n",
      "\n",
      "c:\\Users\\wolle\\Desktop\\amsterdam_house_price\\envwin\\lib\\site-packages\\scipy\\stats\\_stats_py.py:1769: UserWarning:\n",
      "\n",
      "kurtosistest only valid for n>=20 ... continuing anyway, n=9\n",
      "\n",
      "c:\\Users\\wolle\\Desktop\\amsterdam_house_price\\envwin\\lib\\site-packages\\scipy\\stats\\_stats_py.py:1769: UserWarning:\n",
      "\n",
      "kurtosistest only valid for n>=20 ... continuing anyway, n=17\n",
      "\n",
      "c:\\Users\\wolle\\Desktop\\amsterdam_house_price\\envwin\\lib\\site-packages\\scipy\\stats\\_stats_py.py:1769: UserWarning:\n",
      "\n",
      "kurtosistest only valid for n>=20 ... continuing anyway, n=11\n",
      "\n",
      "c:\\Users\\wolle\\Desktop\\amsterdam_house_price\\envwin\\lib\\site-packages\\scipy\\stats\\_stats_py.py:1769: UserWarning:\n",
      "\n",
      "kurtosistest only valid for n>=20 ... continuing anyway, n=18\n",
      "\n"
     ]
    }
   ],
   "source": [
    "#check price dist.\n",
    "norm_test_results = []\n",
    "norm_test_regions = []\n",
    "for count,i in enumerate(data_for_norm_test[\"Price\"]):\n",
    "    temp = [float(t) for t in i.split(\",\")]\n",
    "    if len(temp)<=8:\n",
    "        continue\n",
    "    norm_test_regions.append(data_for_norm_test[\"Region\"][count])\n",
    "    norm_test_results.append(spy.stats.normaltest(temp))"
   ]
  },
  {
   "cell_type": "code",
   "execution_count": 31,
   "metadata": {},
   "outputs": [
    {
     "name": "stdout",
     "output_type": "stream",
     "text": [
      "1011\n",
      "1012\n",
      "1013\n",
      "1015\n",
      "1016\n",
      "1017\n",
      "1018\n",
      "1019\n",
      "1024\n",
      "1025\n",
      "1052\n",
      "1053\n",
      "1054\n",
      "1058\n",
      "1060\n",
      "1061\n",
      "1065\n",
      "1067\n",
      "1068\n",
      "1069\n",
      "1075\n",
      "1076\n",
      "1082\n",
      "1091\n",
      "1095\n",
      "1103\n"
     ]
    }
   ],
   "source": [
    "#regions with no normal dist.\n",
    "for i in zip(norm_test_results,norm_test_regions):\n",
    "    \n",
    "    if i[0][1] <= 0.05:\n",
    "        print(i[1])"
   ]
  }
 ],
 "metadata": {
  "kernelspec": {
   "display_name": "Python 3.9.8 ('envwin': venv)",
   "language": "python",
   "name": "python3"
  },
  "language_info": {
   "codemirror_mode": {
    "name": "ipython",
    "version": 3
   },
   "file_extension": ".py",
   "mimetype": "text/x-python",
   "name": "python",
   "nbconvert_exporter": "python",
   "pygments_lexer": "ipython3",
   "version": "3.9.8"
  },
  "orig_nbformat": 4,
  "vscode": {
   "interpreter": {
    "hash": "ee8f8e87171e038da6e838913811c67e90c391a42e73ccea902c77a08c8ab375"
   }
  }
 },
 "nbformat": 4,
 "nbformat_minor": 2
}

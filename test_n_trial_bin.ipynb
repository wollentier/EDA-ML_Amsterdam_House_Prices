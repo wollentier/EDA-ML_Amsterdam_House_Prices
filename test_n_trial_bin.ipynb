{
 "cells": [
  {
   "cell_type": "code",
   "execution_count": 1,
   "id": "005c876e",
   "metadata": {},
   "outputs": [],
   "source": [
    "# Loading all Packages\n",
    "# General Packages\n",
    "import pandas as pd\n",
    "import numpy as np\n",
    "import matplotlib.pyplot as plt\n",
    "import json\n",
    "import plotly.express as px\n",
    "import scipy as spy\n",
    "import seaborn as sns\n",
    "import random\n",
    "from unicodedata import category\n",
    "\n",
    "# ML Packages\n",
    "import sklearn as sk\n",
    "from sklearn.model_selection import train_test_split\n",
    "from sklearn.preprocessing import StandardScaler\n",
    "from sklearn.model_selection import cross_val_score\n",
    "from sklearn.model_selection import train_test_split\n",
    "from sklearn.linear_model import SGDRegressor\n",
    "from sklearn.ensemble import RandomForestRegressor, AdaBoostRegressor, VotingRegressor\n",
    "from sklearn.tree import DecisionTreeRegressor\n",
    "from sklearn.metrics import r2_score,mean_squared_error,mean_absolute_error\n",
    "from sklearn.model_selection import GridSearchCV\n",
    "import xgboost as xgb\n",
    "from sklearn.preprocessing import OneHotEncoder\n",
    "import pickle"
   ]
  },
  {
   "cell_type": "code",
   "execution_count": 2,
   "id": "84a5dcc1",
   "metadata": {},
   "outputs": [],
   "source": [
    "import pandas as pd\n",
    "import numpy as np\n",
    "import pickle\n",
    "from sklearn.preprocessing import OneHotEncoder\n",
    "\n",
    "\n",
    "model = pickle.load(open(\"app/src/one_hot_enc_model.sav\",\"rb\"))\n",
    "enc = pickle.load(open(\"app/src/one_hot_enc.sav\",\"rb\"))\n",
    "\n",
    "model_label = pickle.load(open(\"app/src/label_model.sav\",\"rb\"))\n",
    "enc_label = pickle.load(open(\"app/src/label_enc.sav\",\"rb\"))\n",
    "\n",
    "def list_to_pandas(inputs: list) -> pd.DataFrame:\n",
    "\n",
    "    temp = {\"Area\": [inputs[0]],\"Room\": [inputs[1]],\"Region\": [inputs[2]]}\n",
    "    temp = pd.DataFrame(temp)\n",
    "\n",
    "    return temp\n",
    "\n",
    "# creating  Label Encoding function enabling to properly encode possible future data points for predictions\n",
    "def OH_encoding(transformData: pd.DataFrame, OH_Encoder: OneHotEncoder, encoderColumn: str) -> pd.DataFrame:\n",
    "\n",
    "    if \"index\" in transformData.columns:\n",
    "        transformData = transformData.drop([\"index\"], axis=1)\n",
    "        transformData = transformData.reset_index()\n",
    "    \n",
    "    if \"index\" not in transformData.columns:\n",
    "        transformData = transformData.reset_index()\n",
    "    \n",
    "    temp_frame = pd.DataFrame((OH_Encoder.transform(transformData[[encoderColumn]])).toarray())\n",
    "    transformData = pd.concat([transformData,temp_frame], axis=1).drop([encoderColumn], axis=1)\n",
    "    transformData = transformData.drop([\"index\"], axis=1)\n",
    "    transformData.columns = transformData.columns.astype(str)\n",
    "       \n",
    "    return transformData\n",
    "\n",
    "def OH_prediction(predict_input: pd.DataFrame) -> int:\n",
    "\n",
    "    prediction = int(model.predict(predict_input)[0])\n",
    "\n",
    "    return prediction"
   ]
  },
  {
   "cell_type": "code",
   "execution_count": 3,
   "id": "cc4d0eeb",
   "metadata": {},
   "outputs": [],
   "source": [
    "test = list_to_pandas([50,3,1019])"
   ]
  },
  {
   "cell_type": "code",
   "execution_count": 4,
   "id": "ce45e628",
   "metadata": {},
   "outputs": [
    {
     "data": {
      "text/html": [
       "<div>\n",
       "<style scoped>\n",
       "    .dataframe tbody tr th:only-of-type {\n",
       "        vertical-align: middle;\n",
       "    }\n",
       "\n",
       "    .dataframe tbody tr th {\n",
       "        vertical-align: top;\n",
       "    }\n",
       "\n",
       "    .dataframe thead th {\n",
       "        text-align: right;\n",
       "    }\n",
       "</style>\n",
       "<table border=\"1\" class=\"dataframe\">\n",
       "  <thead>\n",
       "    <tr style=\"text-align: right;\">\n",
       "      <th></th>\n",
       "      <th>Area</th>\n",
       "      <th>Room</th>\n",
       "      <th>Region</th>\n",
       "    </tr>\n",
       "  </thead>\n",
       "  <tbody>\n",
       "    <tr>\n",
       "      <th>0</th>\n",
       "      <td>50</td>\n",
       "      <td>3</td>\n",
       "      <td>1019</td>\n",
       "    </tr>\n",
       "  </tbody>\n",
       "</table>\n",
       "</div>"
      ],
      "text/plain": [
       "   Area  Room  Region\n",
       "0    50     3    1019"
      ]
     },
     "execution_count": 4,
     "metadata": {},
     "output_type": "execute_result"
    }
   ],
   "source": [
    "test"
   ]
  },
  {
   "cell_type": "code",
   "execution_count": 5,
   "id": "70b7965c",
   "metadata": {},
   "outputs": [],
   "source": [
    "encode = OH_encoding(test,enc,\"Region\")"
   ]
  },
  {
   "cell_type": "code",
   "execution_count": 6,
   "id": "439fd0b2",
   "metadata": {},
   "outputs": [
    {
     "data": {
      "text/html": [
       "<div>\n",
       "<style scoped>\n",
       "    .dataframe tbody tr th:only-of-type {\n",
       "        vertical-align: middle;\n",
       "    }\n",
       "\n",
       "    .dataframe tbody tr th {\n",
       "        vertical-align: top;\n",
       "    }\n",
       "\n",
       "    .dataframe thead th {\n",
       "        text-align: right;\n",
       "    }\n",
       "</style>\n",
       "<table border=\"1\" class=\"dataframe\">\n",
       "  <thead>\n",
       "    <tr style=\"text-align: right;\">\n",
       "      <th></th>\n",
       "      <th>Area</th>\n",
       "      <th>Room</th>\n",
       "      <th>0</th>\n",
       "      <th>1</th>\n",
       "      <th>2</th>\n",
       "      <th>3</th>\n",
       "      <th>4</th>\n",
       "      <th>5</th>\n",
       "      <th>6</th>\n",
       "      <th>7</th>\n",
       "      <th>...</th>\n",
       "      <th>59</th>\n",
       "      <th>60</th>\n",
       "      <th>61</th>\n",
       "      <th>62</th>\n",
       "      <th>63</th>\n",
       "      <th>64</th>\n",
       "      <th>65</th>\n",
       "      <th>66</th>\n",
       "      <th>67</th>\n",
       "      <th>68</th>\n",
       "    </tr>\n",
       "  </thead>\n",
       "  <tbody>\n",
       "    <tr>\n",
       "      <th>0</th>\n",
       "      <td>50</td>\n",
       "      <td>3</td>\n",
       "      <td>0.0</td>\n",
       "      <td>0.0</td>\n",
       "      <td>0.0</td>\n",
       "      <td>0.0</td>\n",
       "      <td>0.0</td>\n",
       "      <td>0.0</td>\n",
       "      <td>0.0</td>\n",
       "      <td>1.0</td>\n",
       "      <td>...</td>\n",
       "      <td>0.0</td>\n",
       "      <td>0.0</td>\n",
       "      <td>0.0</td>\n",
       "      <td>0.0</td>\n",
       "      <td>0.0</td>\n",
       "      <td>0.0</td>\n",
       "      <td>0.0</td>\n",
       "      <td>0.0</td>\n",
       "      <td>0.0</td>\n",
       "      <td>0.0</td>\n",
       "    </tr>\n",
       "  </tbody>\n",
       "</table>\n",
       "<p>1 rows × 71 columns</p>\n",
       "</div>"
      ],
      "text/plain": [
       "   Area  Room    0    1    2    3    4    5    6    7  ...   59   60   61  \\\n",
       "0    50     3  0.0  0.0  0.0  0.0  0.0  0.0  0.0  1.0  ...  0.0  0.0  0.0   \n",
       "\n",
       "    62   63   64   65   66   67   68  \n",
       "0  0.0  0.0  0.0  0.0  0.0  0.0  0.0  \n",
       "\n",
       "[1 rows x 71 columns]"
      ]
     },
     "execution_count": 6,
     "metadata": {},
     "output_type": "execute_result"
    }
   ],
   "source": [
    "encode"
   ]
  },
  {
   "cell_type": "code",
   "execution_count": 7,
   "id": "09e7a9ff",
   "metadata": {},
   "outputs": [
    {
     "data": {
      "text/plain": [
       "14078776"
      ]
     },
     "execution_count": 7,
     "metadata": {},
     "output_type": "execute_result"
    }
   ],
   "source": [
    "OH_prediction(encode)"
   ]
  },
  {
   "cell_type": "code",
   "execution_count": 8,
   "id": "5d06898b",
   "metadata": {},
   "outputs": [],
   "source": [
    "\n",
    "# creating  Label Encoding function enabling to properly encode possible future data points for label predictions\n",
    "def label_encoding(transformData: pd.DataFrame, NewColumnName: str, encodePattern: pd.DataFrame, encoderColumn: str) -> pd.DataFrame:\n",
    "    transformData[\"temp_col1\"] = [int(encodePattern.query(\"Region == @i\")[encoderColumn]) for i in transformData[\"Region\"]]\n",
    "    transformData = transformData.drop([NewColumnName,\"Region\"], axis=1).rename(columns={\"temp_col1\" : NewColumnName})\n",
    "    return transformData\n",
    "\n",
    "\n",
    "def label_prediction(predict_input: pd.DataFrame) -> int:\n",
    "\n",
    "    prediction = int(model_label.predict(predict_input)[0])\n",
    "\n",
    "    return prediction"
   ]
  },
  {
   "cell_type": "code",
   "execution_count": 9,
   "id": "1cf0b93b",
   "metadata": {},
   "outputs": [],
   "source": [
    "test = list_to_pandas([50,3,1019])"
   ]
  },
  {
   "cell_type": "code",
   "execution_count": null,
   "id": "0901df3a",
   "metadata": {},
   "outputs": [],
   "source": [
    "encode = OH_encoding(test,\"price_cat_encoded\",enc_label,\"most_frequent_cat\")"
   ]
  }
 ],
 "metadata": {
  "kernelspec": {
   "display_name": "Python 3.9.8 ('envwin': venv)",
   "language": "python",
   "name": "python3"
  },
  "language_info": {
   "codemirror_mode": {
    "name": "ipython",
    "version": 3
   },
   "file_extension": ".py",
   "mimetype": "text/x-python",
   "name": "python",
   "nbconvert_exporter": "python",
   "pygments_lexer": "ipython3",
   "version": "3.9.8"
  },
  "vscode": {
   "interpreter": {
    "hash": "ec0b995a1df0c33db27325d64eec6c058cf9b85603c63310ec86287631d16129"
   }
  }
 },
 "nbformat": 4,
 "nbformat_minor": 5
}
